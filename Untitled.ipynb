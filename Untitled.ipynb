{
 "cells": [
  {
   "cell_type": "code",
   "execution_count": 1,
   "id": "40ab94d4",
   "metadata": {},
   "outputs": [],
   "source": [
    "\n",
    "# Topic: CRYPTO BOT BUILDING CLASS"
   ]
  },
  {
   "cell_type": "code",
   "execution_count": 2,
   "id": "ba4a2e12",
   "metadata": {},
   "outputs": [],
   "source": [
    "# # Going through pu=ython fundamentals\n",
    "# lists\n",
    "# arrays\n",
    "# dictionaries\n",
    "# conditions\n",
    "# for loops\n",
    "# # functions\n",
    "\n",
    "# learning how to consume binance API\n",
    "# implementing/programming strategies and visualizing them using python\n",
    "# putting them together."
   ]
  },
  {
   "cell_type": "code",
   "execution_count": 3,
   "id": "fd1d1137",
   "metadata": {},
   "outputs": [],
   "source": [
    "# Data structures\n",
    "# variables\n",
    "# list/matrixes\n",
    "# dictionaries(key-value-pair)sets"
   ]
  },
  {
   "cell_type": "code",
   "execution_count": 4,
   "id": "546e3e21",
   "metadata": {},
   "outputs": [
    {
     "name": "stdout",
     "output_type": "stream",
     "text": [
      "Tom is 35 years old\n"
     ]
    }
   ],
   "source": [
    "name = \"Tom\"\n",
    "age = 35\n",
    "print(f\"{name} is {age} years old\")"
   ]
  },
  {
   "cell_type": "code",
   "execution_count": 5,
   "id": "7f2292f7",
   "metadata": {},
   "outputs": [],
   "source": [
    "# solve = (x-root(x))/(xsquared + root(Y))"
   ]
  },
  {
   "cell_type": "code",
   "execution_count": null,
   "id": "083f9070",
   "metadata": {},
   "outputs": [],
   "source": [
    "x = 7\n",
    "y = 9\n",
    "a = x-(x**(1/2))\n",
    "b = (x**2) + (y**(1/2))\n",
    "solve = a/b\n",
    "print(solve)"
   ]
  },
  {
   "cell_type": "code",
   "execution_count": null,
   "id": "391e63c3",
   "metadata": {},
   "outputs": [],
   "source": [
    "in for loop, \n",
    "# you can use \"not in\"\n"
   ]
  },
  {
   "cell_type": "code",
   "execution_count": null,
   "id": "02780b23",
   "metadata": {},
   "outputs": [],
   "source": [
    "# y1 = [5,18,19,13,5]\n",
    "# import pandas as pd\n",
    "# y = pd.DataFrame(y1)\n",
    "\n",
    "# y"
   ]
  },
  {
   "cell_type": "code",
   "execution_count": null,
   "id": "054a0827",
   "metadata": {},
   "outputs": [],
   "source": [
    "# how to use cooncat .....to merge 2 columns\n",
    "# t= pd.concat([y,y1],axis =1)"
   ]
  },
  {
   "cell_type": "code",
   "execution_count": null,
   "id": "177aa9bc",
   "metadata": {},
   "outputs": [],
   "source": [
    "# streambinance.com"
   ]
  },
  {
   "cell_type": "code",
   "execution_count": 9,
   "id": "49c6c96f",
   "metadata": {},
   "outputs": [
    {
     "name": "stdout",
     "output_type": "stream",
     "text": [
      "[2, 5, 8]\n"
     ]
    }
   ],
   "source": [
    "b = [[1,2,3],\n",
    "  [4,5,6],\n",
    "   [7,8,9]]\n",
    "\n",
    "k =[]\n",
    "\n",
    "for i in b:\n",
    "    for n in i:\n",
    "        d =i[1]\n",
    "        k.append(d)\n",
    "        break\n",
    "print(k)"
   ]
  },
  {
   "cell_type": "code",
   "execution_count": 14,
   "id": "eef32e9d",
   "metadata": {},
   "outputs": [
    {
     "name": "stdout",
     "output_type": "stream",
     "text": [
      "[2, 5, 4]\n"
     ]
    }
   ],
   "source": [
    "b = [[1, 2, 4],\n",
    "     [5, 7, 9],\n",
    "    [8, 12, 4]]\n",
    "\n",
    "p = []\n",
    "a = 2\n",
    "for i in b:\n",
    "    a = a - 1\n",
    "    p.append(i[a])\n",
    "print(p)\n",
    "    "
   ]
  },
  {
   "cell_type": "code",
   "execution_count": null,
   "id": "3d9b0d5d",
   "metadata": {},
   "outputs": [],
   "source": [
    "# use for loop to get the diagonals of the matrix below\n",
    "\n",
    "b = [[1,2,3],\n",
    "  [4,5,6],\n",
    "   [7,8,9]]\n",
    "\n",
    "p = []\n",
    "z = []\n",
    "for i in b:\n",
    "    for n in i:\n",
    "        \n"
   ]
  }
 ],
 "metadata": {
  "kernelspec": {
   "display_name": "Python 3",
   "language": "python",
   "name": "python3"
  },
  "language_info": {
   "codemirror_mode": {
    "name": "ipython",
    "version": 3
   },
   "file_extension": ".py",
   "mimetype": "text/x-python",
   "name": "python",
   "nbconvert_exporter": "python",
   "pygments_lexer": "ipython3",
   "version": "3.8.8"
  }
 },
 "nbformat": 4,
 "nbformat_minor": 5
}
